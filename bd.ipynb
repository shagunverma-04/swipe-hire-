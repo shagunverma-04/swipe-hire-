{
 "cells": [
  {
   "cell_type": "code",
   "execution_count": 18,
   "metadata": {},
   "outputs": [
    {
     "name": "stdout",
     "output_type": "stream",
     "text": [
      "Requirement already satisfied: pandas in c:\\users\\91844\\appdata\\local\\programs\\python\\python312\\lib\\site-packages (2.2.2)Note: you may need to restart the kernel to use updated packages.\n",
      "\n",
      "Requirement already satisfied: numpy in c:\\users\\91844\\appdata\\local\\programs\\python\\python312\\lib\\site-packages (1.26.4)\n",
      "Requirement already satisfied: scikit-learn in c:\\users\\91844\\appdata\\local\\programs\\python\\python312\\lib\\site-packages (1.5.2)\n",
      "Requirement already satisfied: tensorflow in c:\\users\\91844\\appdata\\local\\programs\\python\\python312\\lib\\site-packages (2.17.0)\n",
      "Requirement already satisfied: matplotlib in c:\\users\\91844\\appdata\\local\\programs\\python\\python312\\lib\\site-packages (3.9.2)\n",
      "Requirement already satisfied: seaborn in c:\\users\\91844\\appdata\\local\\programs\\python\\python312\\lib\\site-packages (0.13.2)\n",
      "Requirement already satisfied: python-dateutil>=2.8.2 in c:\\users\\91844\\appdata\\local\\programs\\python\\python312\\lib\\site-packages (from pandas) (2.9.0.post0)\n",
      "Requirement already satisfied: pytz>=2020.1 in c:\\users\\91844\\appdata\\local\\programs\\python\\python312\\lib\\site-packages (from pandas) (2024.1)\n",
      "Requirement already satisfied: tzdata>=2022.7 in c:\\users\\91844\\appdata\\local\\programs\\python\\python312\\lib\\site-packages (from pandas) (2024.1)\n",
      "Requirement already satisfied: scipy>=1.6.0 in c:\\users\\91844\\appdata\\local\\programs\\python\\python312\\lib\\site-packages (from scikit-learn) (1.14.1)\n",
      "Requirement already satisfied: joblib>=1.2.0 in c:\\users\\91844\\appdata\\local\\programs\\python\\python312\\lib\\site-packages (from scikit-learn) (1.4.2)\n",
      "Requirement already satisfied: threadpoolctl>=3.1.0 in c:\\users\\91844\\appdata\\local\\programs\\python\\python312\\lib\\site-packages (from scikit-learn) (3.5.0)\n",
      "Requirement already satisfied: tensorflow-intel==2.17.0 in c:\\users\\91844\\appdata\\local\\programs\\python\\python312\\lib\\site-packages (from tensorflow) (2.17.0)\n",
      "Requirement already satisfied: absl-py>=1.0.0 in c:\\users\\91844\\appdata\\local\\programs\\python\\python312\\lib\\site-packages (from tensorflow-intel==2.17.0->tensorflow) (2.1.0)\n",
      "Requirement already satisfied: astunparse>=1.6.0 in c:\\users\\91844\\appdata\\local\\programs\\python\\python312\\lib\\site-packages (from tensorflow-intel==2.17.0->tensorflow) (1.6.3)\n",
      "Requirement already satisfied: flatbuffers>=24.3.25 in c:\\users\\91844\\appdata\\local\\programs\\python\\python312\\lib\\site-packages (from tensorflow-intel==2.17.0->tensorflow) (24.3.25)\n",
      "Requirement already satisfied: gast!=0.5.0,!=0.5.1,!=0.5.2,>=0.2.1 in c:\\users\\91844\\appdata\\local\\programs\\python\\python312\\lib\\site-packages (from tensorflow-intel==2.17.0->tensorflow) (0.6.0)\n",
      "Requirement already satisfied: google-pasta>=0.1.1 in c:\\users\\91844\\appdata\\local\\programs\\python\\python312\\lib\\site-packages (from tensorflow-intel==2.17.0->tensorflow) (0.2.0)\n",
      "Requirement already satisfied: h5py>=3.10.0 in c:\\users\\91844\\appdata\\local\\programs\\python\\python312\\lib\\site-packages (from tensorflow-intel==2.17.0->tensorflow) (3.12.1)\n",
      "Requirement already satisfied: libclang>=13.0.0 in c:\\users\\91844\\appdata\\local\\programs\\python\\python312\\lib\\site-packages (from tensorflow-intel==2.17.0->tensorflow) (18.1.1)\n",
      "Requirement already satisfied: ml-dtypes<0.5.0,>=0.3.1 in c:\\users\\91844\\appdata\\local\\programs\\python\\python312\\lib\\site-packages (from tensorflow-intel==2.17.0->tensorflow) (0.4.1)\n",
      "Requirement already satisfied: opt-einsum>=2.3.2 in c:\\users\\91844\\appdata\\local\\programs\\python\\python312\\lib\\site-packages (from tensorflow-intel==2.17.0->tensorflow) (3.4.0)\n",
      "Requirement already satisfied: packaging in c:\\users\\91844\\appdata\\roaming\\python\\python312\\site-packages (from tensorflow-intel==2.17.0->tensorflow) (24.1)\n",
      "Requirement already satisfied: protobuf!=4.21.0,!=4.21.1,!=4.21.2,!=4.21.3,!=4.21.4,!=4.21.5,<5.0.0dev,>=3.20.3 in c:\\users\\91844\\appdata\\local\\programs\\python\\python312\\lib\\site-packages (from tensorflow-intel==2.17.0->tensorflow) (4.25.5)\n",
      "Requirement already satisfied: requests<3,>=2.21.0 in c:\\users\\91844\\appdata\\local\\programs\\python\\python312\\lib\\site-packages (from tensorflow-intel==2.17.0->tensorflow) (2.32.3)\n",
      "Requirement already satisfied: setuptools in c:\\users\\91844\\appdata\\local\\programs\\python\\python312\\lib\\site-packages (from tensorflow-intel==2.17.0->tensorflow) (75.1.0)\n",
      "Requirement already satisfied: six>=1.12.0 in c:\\users\\91844\\appdata\\local\\programs\\python\\python312\\lib\\site-packages (from tensorflow-intel==2.17.0->tensorflow) (1.16.0)\n",
      "Requirement already satisfied: termcolor>=1.1.0 in c:\\users\\91844\\appdata\\local\\programs\\python\\python312\\lib\\site-packages (from tensorflow-intel==2.17.0->tensorflow) (2.4.0)\n",
      "Requirement already satisfied: typing-extensions>=3.6.6 in c:\\users\\91844\\appdata\\local\\programs\\python\\python312\\lib\\site-packages (from tensorflow-intel==2.17.0->tensorflow) (4.12.2)\n",
      "Requirement already satisfied: wrapt>=1.11.0 in c:\\users\\91844\\appdata\\local\\programs\\python\\python312\\lib\\site-packages (from tensorflow-intel==2.17.0->tensorflow) (1.16.0)\n",
      "Requirement already satisfied: grpcio<2.0,>=1.24.3 in c:\\users\\91844\\appdata\\local\\programs\\python\\python312\\lib\\site-packages (from tensorflow-intel==2.17.0->tensorflow) (1.66.2)\n",
      "Requirement already satisfied: tensorboard<2.18,>=2.17 in c:\\users\\91844\\appdata\\local\\programs\\python\\python312\\lib\\site-packages (from tensorflow-intel==2.17.0->tensorflow) (2.17.1)\n",
      "Requirement already satisfied: keras>=3.2.0 in c:\\users\\91844\\appdata\\local\\programs\\python\\python312\\lib\\site-packages (from tensorflow-intel==2.17.0->tensorflow) (3.6.0)\n",
      "Requirement already satisfied: contourpy>=1.0.1 in c:\\users\\91844\\appdata\\local\\programs\\python\\python312\\lib\\site-packages (from matplotlib) (1.3.0)\n",
      "Requirement already satisfied: cycler>=0.10 in c:\\users\\91844\\appdata\\local\\programs\\python\\python312\\lib\\site-packages (from matplotlib) (0.12.1)\n",
      "Requirement already satisfied: fonttools>=4.22.0 in c:\\users\\91844\\appdata\\local\\programs\\python\\python312\\lib\\site-packages (from matplotlib) (4.54.1)\n",
      "Requirement already satisfied: kiwisolver>=1.3.1 in c:\\users\\91844\\appdata\\local\\programs\\python\\python312\\lib\\site-packages (from matplotlib) (1.4.7)\n",
      "Requirement already satisfied: pillow>=8 in c:\\users\\91844\\appdata\\local\\programs\\python\\python312\\lib\\site-packages (from matplotlib) (10.4.0)\n",
      "Requirement already satisfied: pyparsing>=2.3.1 in c:\\users\\91844\\appdata\\local\\programs\\python\\python312\\lib\\site-packages (from matplotlib) (3.1.4)\n",
      "Requirement already satisfied: wheel<1.0,>=0.23.0 in c:\\users\\91844\\appdata\\local\\programs\\python\\python312\\lib\\site-packages (from astunparse>=1.6.0->tensorflow-intel==2.17.0->tensorflow) (0.44.0)\n",
      "Requirement already satisfied: rich in c:\\users\\91844\\appdata\\local\\programs\\python\\python312\\lib\\site-packages (from keras>=3.2.0->tensorflow-intel==2.17.0->tensorflow) (13.8.1)\n",
      "Requirement already satisfied: namex in c:\\users\\91844\\appdata\\local\\programs\\python\\python312\\lib\\site-packages (from keras>=3.2.0->tensorflow-intel==2.17.0->tensorflow) (0.0.8)\n",
      "Requirement already satisfied: optree in c:\\users\\91844\\appdata\\local\\programs\\python\\python312\\lib\\site-packages (from keras>=3.2.0->tensorflow-intel==2.17.0->tensorflow) (0.12.1)\n",
      "Requirement already satisfied: charset-normalizer<4,>=2 in c:\\users\\91844\\appdata\\local\\programs\\python\\python312\\lib\\site-packages (from requests<3,>=2.21.0->tensorflow-intel==2.17.0->tensorflow) (3.3.2)\n",
      "Requirement already satisfied: idna<4,>=2.5 in c:\\users\\91844\\appdata\\local\\programs\\python\\python312\\lib\\site-packages (from requests<3,>=2.21.0->tensorflow-intel==2.17.0->tensorflow) (3.10)\n",
      "Requirement already satisfied: urllib3<3,>=1.21.1 in c:\\users\\91844\\appdata\\local\\programs\\python\\python312\\lib\\site-packages (from requests<3,>=2.21.0->tensorflow-intel==2.17.0->tensorflow) (2.2.3)\n",
      "Requirement already satisfied: certifi>=2017.4.17 in c:\\users\\91844\\appdata\\local\\programs\\python\\python312\\lib\\site-packages (from requests<3,>=2.21.0->tensorflow-intel==2.17.0->tensorflow) (2024.8.30)\n",
      "Requirement already satisfied: markdown>=2.6.8 in c:\\users\\91844\\appdata\\local\\programs\\python\\python312\\lib\\site-packages (from tensorboard<2.18,>=2.17->tensorflow-intel==2.17.0->tensorflow) (3.7)\n",
      "Requirement already satisfied: tensorboard-data-server<0.8.0,>=0.7.0 in c:\\users\\91844\\appdata\\local\\programs\\python\\python312\\lib\\site-packages (from tensorboard<2.18,>=2.17->tensorflow-intel==2.17.0->tensorflow) (0.7.2)\n",
      "Requirement already satisfied: werkzeug>=1.0.1 in c:\\users\\91844\\appdata\\local\\programs\\python\\python312\\lib\\site-packages (from tensorboard<2.18,>=2.17->tensorflow-intel==2.17.0->tensorflow) (3.0.4)\n",
      "Requirement already satisfied: MarkupSafe>=2.1.1 in c:\\users\\91844\\appdata\\local\\programs\\python\\python312\\lib\\site-packages (from werkzeug>=1.0.1->tensorboard<2.18,>=2.17->tensorflow-intel==2.17.0->tensorflow) (2.1.5)\n",
      "Requirement already satisfied: markdown-it-py>=2.2.0 in c:\\users\\91844\\appdata\\local\\programs\\python\\python312\\lib\\site-packages (from rich->keras>=3.2.0->tensorflow-intel==2.17.0->tensorflow) (3.0.0)\n",
      "Requirement already satisfied: pygments<3.0.0,>=2.13.0 in c:\\users\\91844\\appdata\\roaming\\python\\python312\\site-packages (from rich->keras>=3.2.0->tensorflow-intel==2.17.0->tensorflow) (2.18.0)\n",
      "Requirement already satisfied: mdurl~=0.1 in c:\\users\\91844\\appdata\\local\\programs\\python\\python312\\lib\\site-packages (from markdown-it-py>=2.2.0->rich->keras>=3.2.0->tensorflow-intel==2.17.0->tensorflow) (0.1.2)\n"
     ]
    },
    {
     "name": "stderr",
     "output_type": "stream",
     "text": [
      "\n",
      "[notice] A new release of pip is available: 24.2 -> 24.3.1\n",
      "[notice] To update, run: python.exe -m pip install --upgrade pip\n"
     ]
    }
   ],
   "source": [
    "pip install pandas numpy scikit-learn tensorflow matplotlib seaborn\n"
   ]
  },
  {
   "cell_type": "code",
   "execution_count": 19,
   "metadata": {},
   "outputs": [
    {
     "name": "stdout",
     "output_type": "stream",
     "text": [
      "                                            job_link  \\\n",
      "0  https://www.linkedin.com/jobs/view/account-exe...   \n",
      "1  https://www.linkedin.com/jobs/view/registered-...   \n",
      "2  https://www.linkedin.com/jobs/view/restaurant-...   \n",
      "3  https://www.linkedin.com/jobs/view/independent...   \n",
      "4  https://www.linkedin.com/jobs/view/group-unit-...   \n",
      "\n",
      "             last_processed_time got_summary got_ner is_being_worked  \\\n",
      "0   2024-01-21 07:12:29.00256+00           t       t               f   \n",
      "1   2024-01-21 07:39:58.88137+00           t       t               f   \n",
      "2  2024-01-21 07:40:00.251126+00           t       t               f   \n",
      "3  2024-01-21 07:40:00.308133+00           t       t               f   \n",
      "4  2024-01-19 09:45:09.215838+00           f       f               f   \n",
      "\n",
      "                                           job_title  \\\n",
      "0  Account Executive - Dispensing (NorCal/Norther...   \n",
      "1                 Registered Nurse - RN Care Manager   \n",
      "2               RESTAURANT SUPERVISOR - THE FORKLIFT   \n",
      "3                      Independent Real Estate Agent   \n",
      "4  Group/Unit Supervisor (Systems Support Manager...   \n",
      "\n",
      "                        company          job_location  first_seen  \\\n",
      "0                            BD         San Diego, CA  2024-01-15   \n",
      "1             Trinity Health MI     Norton Shores, MI  2024-01-14   \n",
      "2       Wasatch Adaptive Sports             Sandy, UT  2024-01-14   \n",
      "3    Howard Hanna | Rand Realty  Englewood Cliffs, NJ  2024-01-16   \n",
      "4  IRS, Office of Chief Counsel          Chamblee, GA  2024-01-17   \n",
      "\n",
      "   search_city search_country                       search_position  \\\n",
      "0     Coronado  United States                           Color Maker   \n",
      "1  Grand Haven  United States              Director Nursing Service   \n",
      "2       Tooele  United States                              Stand-In   \n",
      "3    Pinehurst  United States                     Real-Estate Clerk   \n",
      "4      Gadsden  United States  Supervisor Travel-Information Center   \n",
      "\n",
      "    job_level job_type  \n",
      "0  Mid senior   Onsite  \n",
      "1  Mid senior   Onsite  \n",
      "2  Mid senior   Onsite  \n",
      "3  Mid senior   Onsite  \n",
      "4  Mid senior   Onsite  \n"
     ]
    }
   ],
   "source": [
    "import pandas as pd\n",
    "\n",
    "# Load the dataset\n",
    "job_postings_df = pd.read_csv(r\"C:\\Users\\91844\\Desktop\\swipe-hire\\linkedin_job_postings.csv\")\n",
    "\n",
    "# Display the first few rows\n",
    "print(job_postings_df.head())\n"
   ]
  },
  {
   "cell_type": "code",
   "execution_count": 20,
   "metadata": {},
   "outputs": [],
   "source": [
    "job_skills_df = pd.read_csv(r\"C:\\Users\\91844\\Desktop\\swipe-hire\\job_skills.csv\")"
   ]
  },
  {
   "cell_type": "code",
   "execution_count": 21,
   "metadata": {},
   "outputs": [
    {
     "name": "stdout",
     "output_type": "stream",
     "text": [
      "                                            job_link  \\\n",
      "0  https://www.linkedin.com/jobs/view/account-exe...   \n",
      "1  https://www.linkedin.com/jobs/view/registered-...   \n",
      "2  https://www.linkedin.com/jobs/view/restaurant-...   \n",
      "3  https://www.linkedin.com/jobs/view/independent...   \n",
      "4  https://www.linkedin.com/jobs/view/registered-...   \n",
      "\n",
      "             last_processed_time got_summary got_ner is_being_worked  \\\n",
      "0   2024-01-21 07:12:29.00256+00           t       t               f   \n",
      "1   2024-01-21 07:39:58.88137+00           t       t               f   \n",
      "2  2024-01-21 07:40:00.251126+00           t       t               f   \n",
      "3  2024-01-21 07:40:00.308133+00           t       t               f   \n",
      "4  2024-01-21 08:08:19.663033+00           t       t               f   \n",
      "\n",
      "                                           job_title  \\\n",
      "0  Account Executive - Dispensing (NorCal/Norther...   \n",
      "1                 Registered Nurse - RN Care Manager   \n",
      "2               RESTAURANT SUPERVISOR - THE FORKLIFT   \n",
      "3                      Independent Real Estate Agent   \n",
      "4                              Registered Nurse (RN)   \n",
      "\n",
      "                      company          job_location  first_seen  search_city  \\\n",
      "0                          BD         San Diego, CA  2024-01-15     Coronado   \n",
      "1           Trinity Health MI     Norton Shores, MI  2024-01-14  Grand Haven   \n",
      "2     Wasatch Adaptive Sports             Sandy, UT  2024-01-14       Tooele   \n",
      "3  Howard Hanna | Rand Realty  Englewood Cliffs, NJ  2024-01-16    Pinehurst   \n",
      "4           Trinity Health MI          Muskegon, MI  2024-01-14     Muskegon   \n",
      "\n",
      "  search_country           search_position   job_level job_type  \\\n",
      "0  United States               Color Maker  Mid senior   Onsite   \n",
      "1  United States  Director Nursing Service  Mid senior   Onsite   \n",
      "2  United States                  Stand-In  Mid senior   Onsite   \n",
      "3  United States         Real-Estate Clerk  Mid senior   Onsite   \n",
      "4  United States        Nurse Practitioner  Mid senior   Onsite   \n",
      "\n",
      "                                          job_skills  \n",
      "0  Medical equipment sales, Key competitors, Term...  \n",
      "1  Nursing, Bachelor of Science in Nursing, Maste...  \n",
      "2  Restaurant Operations Management, Inventory Ma...  \n",
      "3  Real Estate, Customer Service, Sales, Negotiat...  \n",
      "4  Nursing, BSN, Medical License, Virtual RN, Nur...  \n"
     ]
    }
   ],
   "source": [
    "# Merge the datasets based on the 'job_link' column\n",
    "merged_df = pd.merge(job_postings_df, job_skills_df, on='job_link', how='inner')\n",
    "\n",
    "# Display the merged dataset to verify\n",
    "print(merged_df.head())\n"
   ]
  },
  {
   "cell_type": "code",
   "execution_count": 22,
   "metadata": {},
   "outputs": [
    {
     "name": "stdout",
     "output_type": "stream",
     "text": [
      "Index(['job_link', 'last_processed_time', 'got_summary', 'got_ner',\n",
      "       'is_being_worked', 'job_title', 'company', 'job_location', 'first_seen',\n",
      "       'search_city', 'search_country', 'search_position', 'job_level',\n",
      "       'job_type', 'job_skills'],\n",
      "      dtype='object')\n"
     ]
    }
   ],
   "source": [
    "# Clean column names: strip whitespace and convert to lowercase\n",
    "merged_df.columns = merged_df.columns.str.strip().str.lower()\n",
    "\n",
    "# Now print the cleaned column names to confirm\n",
    "print(merged_df.columns)\n"
   ]
  },
  {
   "cell_type": "code",
   "execution_count": 23,
   "metadata": {},
   "outputs": [
    {
     "name": "stderr",
     "output_type": "stream",
     "text": [
      "C:\\Users\\91844\\AppData\\Local\\Temp\\ipykernel_40444\\486724544.py:2: FutureWarning: A value is trying to be set on a copy of a DataFrame or Series through chained assignment using an inplace method.\n",
      "The behavior will change in pandas 3.0. This inplace method will never work because the intermediate object on which we are setting values always behaves as a copy.\n",
      "\n",
      "For example, when doing 'df[col].method(value, inplace=True)', try using 'df.method({col: value}, inplace=True)' or df[col] = df[col].method(value) instead, to perform the operation inplace on the original object.\n",
      "\n",
      "\n",
      "  merged_df['job_title'].fillna('Unknown', inplace=True)\n",
      "C:\\Users\\91844\\AppData\\Local\\Temp\\ipykernel_40444\\486724544.py:3: FutureWarning: A value is trying to be set on a copy of a DataFrame or Series through chained assignment using an inplace method.\n",
      "The behavior will change in pandas 3.0. This inplace method will never work because the intermediate object on which we are setting values always behaves as a copy.\n",
      "\n",
      "For example, when doing 'df[col].method(value, inplace=True)', try using 'df.method({col: value}, inplace=True)' or df[col] = df[col].method(value) instead, to perform the operation inplace on the original object.\n",
      "\n",
      "\n",
      "  merged_df['company'].fillna('Unknown', inplace=True)\n",
      "C:\\Users\\91844\\AppData\\Local\\Temp\\ipykernel_40444\\486724544.py:4: FutureWarning: A value is trying to be set on a copy of a DataFrame or Series through chained assignment using an inplace method.\n",
      "The behavior will change in pandas 3.0. This inplace method will never work because the intermediate object on which we are setting values always behaves as a copy.\n",
      "\n",
      "For example, when doing 'df[col].method(value, inplace=True)', try using 'df.method({col: value}, inplace=True)' or df[col] = df[col].method(value) instead, to perform the operation inplace on the original object.\n",
      "\n",
      "\n",
      "  merged_df['job_location'].fillna('Unknown', inplace=True)\n",
      "C:\\Users\\91844\\AppData\\Local\\Temp\\ipykernel_40444\\486724544.py:5: FutureWarning: A value is trying to be set on a copy of a DataFrame or Series through chained assignment using an inplace method.\n",
      "The behavior will change in pandas 3.0. This inplace method will never work because the intermediate object on which we are setting values always behaves as a copy.\n",
      "\n",
      "For example, when doing 'df[col].method(value, inplace=True)', try using 'df.method({col: value}, inplace=True)' or df[col] = df[col].method(value) instead, to perform the operation inplace on the original object.\n",
      "\n",
      "\n",
      "  merged_df['job_skills'].fillna('No Skills Listed', inplace=True)\n",
      "C:\\Users\\91844\\AppData\\Local\\Temp\\ipykernel_40444\\486724544.py:6: FutureWarning: A value is trying to be set on a copy of a DataFrame or Series through chained assignment using an inplace method.\n",
      "The behavior will change in pandas 3.0. This inplace method will never work because the intermediate object on which we are setting values always behaves as a copy.\n",
      "\n",
      "For example, when doing 'df[col].method(value, inplace=True)', try using 'df.method({col: value}, inplace=True)' or df[col] = df[col].method(value) instead, to perform the operation inplace on the original object.\n",
      "\n",
      "\n",
      "  merged_df['job_type'].fillna('No type available', inplace=True)\n"
     ]
    },
    {
     "name": "stdout",
     "output_type": "stream",
     "text": [
      "job_link               0\n",
      "last_processed_time    0\n",
      "got_summary            0\n",
      "got_ner                0\n",
      "is_being_worked        0\n",
      "job_title              0\n",
      "company                0\n",
      "job_location           0\n",
      "first_seen             0\n",
      "search_city            0\n",
      "search_country         0\n",
      "search_position        0\n",
      "job_level              0\n",
      "job_type               0\n",
      "job_skills             0\n",
      "dtype: int64\n"
     ]
    }
   ],
   "source": [
    "# Fill missing values with a placeholder\n",
    "merged_df['job_title'].fillna('Unknown', inplace=True)\n",
    "merged_df['company'].fillna('Unknown', inplace=True)\n",
    "merged_df['job_location'].fillna('Unknown', inplace=True)\n",
    "merged_df['job_skills'].fillna('No Skills Listed', inplace=True)\n",
    "merged_df['job_type'].fillna('No type available', inplace=True)\n",
    "\n",
    "# Check for remaining missing values\n",
    "print(merged_df.isnull().sum())\n"
   ]
  },
  {
   "cell_type": "code",
   "execution_count": 24,
   "metadata": {},
   "outputs": [
    {
     "name": "stdout",
     "output_type": "stream",
     "text": [
      "Requirement already satisfied: nltk in c:\\users\\91844\\appdata\\local\\programs\\python\\python312\\lib\\site-packages (3.9.1)\n",
      "Requirement already satisfied: click in c:\\users\\91844\\appdata\\local\\programs\\python\\python312\\lib\\site-packages (from nltk) (8.1.7)\n",
      "Requirement already satisfied: joblib in c:\\users\\91844\\appdata\\local\\programs\\python\\python312\\lib\\site-packages (from nltk) (1.4.2)\n",
      "Requirement already satisfied: regex>=2021.8.3 in c:\\users\\91844\\appdata\\local\\programs\\python\\python312\\lib\\site-packages (from nltk) (2024.9.11)\n",
      "Requirement already satisfied: tqdm in c:\\users\\91844\\appdata\\local\\programs\\python\\python312\\lib\\site-packages (from nltk) (4.66.5)\n",
      "Requirement already satisfied: colorama in c:\\users\\91844\\appdata\\roaming\\python\\python312\\site-packages (from click->nltk) (0.4.6)\n",
      "Note: you may need to restart the kernel to use updated packages.\n"
     ]
    },
    {
     "name": "stderr",
     "output_type": "stream",
     "text": [
      "\n",
      "[notice] A new release of pip is available: 24.2 -> 24.3.1\n",
      "[notice] To update, run: python.exe -m pip install --upgrade pip\n"
     ]
    }
   ],
   "source": [
    "pip install nltk\n"
   ]
  },
  {
   "cell_type": "code",
   "execution_count": 25,
   "metadata": {},
   "outputs": [
    {
     "name": "stdout",
     "output_type": "stream",
     "text": [
      "3.9.1\n"
     ]
    }
   ],
   "source": [
    "import nltk\n",
    "print(nltk.__version__)\n"
   ]
  },
  {
   "cell_type": "code",
   "execution_count": 26,
   "metadata": {},
   "outputs": [
    {
     "name": "stdout",
     "output_type": "stream",
     "text": [
      "Note: you may need to restart the kernel to use updated packages.\n"
     ]
    },
    {
     "name": "stderr",
     "output_type": "stream",
     "text": [
      "ERROR: Could not find a version that satisfies the requirement re (from versions: none)\n",
      "\n",
      "[notice] A new release of pip is available: 24.2 -> 24.3.1\n",
      "[notice] To update, run: python.exe -m pip install --upgrade pip\n",
      "ERROR: No matching distribution found for re\n"
     ]
    }
   ],
   "source": [
    "pip install re"
   ]
  },
  {
   "cell_type": "code",
   "execution_count": 27,
   "metadata": {},
   "outputs": [
    {
     "name": "stdout",
     "output_type": "stream",
     "text": [
      "['C:\\\\Users\\\\91844/nltk_data', 'c:\\\\Users\\\\91844\\\\AppData\\\\Local\\\\Programs\\\\Python\\\\Python312\\\\nltk_data', 'c:\\\\Users\\\\91844\\\\AppData\\\\Local\\\\Programs\\\\Python\\\\Python312\\\\share\\\\nltk_data', 'c:\\\\Users\\\\91844\\\\AppData\\\\Local\\\\Programs\\\\Python\\\\Python312\\\\lib\\\\nltk_data', 'C:\\\\Users\\\\91844\\\\AppData\\\\Roaming\\\\nltk_data', 'C:\\\\nltk_data', 'D:\\\\nltk_data', 'E:\\\\nltk_data']\n"
     ]
    }
   ],
   "source": [
    "import nltk\n",
    "print(nltk.data.path)\n"
   ]
  },
  {
   "cell_type": "code",
   "execution_count": 28,
   "metadata": {},
   "outputs": [
    {
     "name": "stdout",
     "output_type": "stream",
     "text": [
      "                                           job_title  \\\n",
      "0  account executive  dispensing norcalnorthern n...   \n",
      "1                  registered nurse  rn care manager   \n",
      "2                restaurant supervisor  the forklift   \n",
      "3                      independent real estate agent   \n",
      "4                                registered nurse rn   \n",
      "\n",
      "                                            job_link  \\\n",
      "0  https://www.linkedin.com/jobs/view/account-exe...   \n",
      "1  https://www.linkedin.com/jobs/view/registered-...   \n",
      "2  https://www.linkedin.com/jobs/view/restaurant-...   \n",
      "3  https://www.linkedin.com/jobs/view/independent...   \n",
      "4  https://www.linkedin.com/jobs/view/registered-...   \n",
      "\n",
      "                                          job_skills  \n",
      "0  medical equipment sales key competitors termin...  \n",
      "1  nursing bachelor of science in nursing masters...  \n",
      "2  restaurant operations management inventory man...  \n",
      "3  real estate customer service sales negotiation...  \n",
      "4  nursing bsn medical license virtual rn nursing...  \n"
     ]
    }
   ],
   "source": [
    "import pandas as pd\n",
    "import re\n",
    "from sklearn.feature_extraction.text import TfidfVectorizer\n",
    "from sklearn.metrics.pairwise import cosine_similarity\n",
    "\n",
    "\n",
    "# Clean and preprocess the job descriptions and skills\n",
    "def preprocess_text(text):\n",
    "    # Convert text to lowercase\n",
    "    text = text.lower()\n",
    "    # Remove non-alphanumeric characters (except spaces)\n",
    "    text = re.sub(r'[^a-zA-Z\\s]', '', text)\n",
    "    return text\n",
    "\n",
    "merged_df['job_title'] = merged_df['job_title'].apply(preprocess_text)\n",
    "merged_df['job_skills'] = merged_df['job_skills'].apply(preprocess_text)\n",
    "\n",
    "# Check the cleaned data\n",
    "print(merged_df[['job_title', 'job_link', 'job_skills']].head())\n"
   ]
  },
  {
   "cell_type": "code",
   "execution_count": 29,
   "metadata": {},
   "outputs": [
    {
     "name": "stdout",
     "output_type": "stream",
     "text": [
      "(1296381, 3) (1296381, 215289)\n"
     ]
    }
   ],
   "source": [
    "# Vectorize the 'Job Description' and 'Skills' columns\n",
    "tfidf_vectorizer = TfidfVectorizer(stop_words='english')\n",
    "\n",
    "# Apply TF-IDF to 'Job Description' column\n",
    "job_description_tfidf = tfidf_vectorizer.fit_transform(merged_df['job_type'])\n",
    "\n",
    "# Apply TF-IDF to 'Skills' column\n",
    "skills_tfidf = tfidf_vectorizer.fit_transform(merged_df['job_skills'])\n",
    "\n",
    "# Check the dimensions of the vectors\n",
    "print(job_description_tfidf.shape, skills_tfidf.shape)\n"
   ]
  },
  {
   "cell_type": "code",
   "execution_count": 30,
   "metadata": {},
   "outputs": [],
   "source": [
    "import pandas as pd\n",
    "from sklearn.feature_extraction.text import TfidfVectorizer\n",
    "from sklearn.metrics.pairwise import cosine_similarity\n",
    "def recommend_jobs_by_input(user_input, df, similarity_matrix, top_n=5):\n",
    "    # Check if the user input is a job title or skill(s)\n",
    "    if any(title.lower() in user_input.lower() for title in df['job_title']):\n",
    "        # Input is a job title, recommend based on job descriptions\n",
    "        job_index = df[df['job_title'].str.contains(user_input, case=False, na=False)].index[0]\n",
    "        similarity_scores = similarity_matrix[job_index]\n",
    "        similar_jobs = similarity_scores.argsort()[-top_n-1:-1][::-1]\n",
    "        return df.iloc[similar_jobs][['job_title', 'company', 'job_location', 'job_link']]\n",
    "    \n",
    "    else:\n",
    "        # Input is skills, recommend based on skills\n",
    "        skills_tfidf = TfidfVectorizer(stop_words='english').fit_transform(df['job_skills'])\n",
    "        skills_similarity = cosine_similarity(skills_tfidf, skills_tfidf)\n",
    "        \n",
    "        # Find the best match for skills\n",
    "        skills_similarity_scores = skills_similarity[0]\n",
    "        similar_jobs = skills_similarity_scores.argsort()[-top_n-1:-1][::-1]\n",
    "        return df.iloc[similar_jobs][['job_title', 'company', 'job_location', 'job_link']]\n",
    "\n"
   ]
  },
  {
   "cell_type": "code",
   "execution_count": 31,
   "metadata": {},
   "outputs": [
    {
     "name": "stdout",
     "output_type": "stream",
     "text": [
      "\n",
      "Recommended Jobs:\n",
      "                                              job_title                      company                                                                                                                                                                                                                                                                                                                                                                                                                                                                                                                                                                                                                                                                                                                                                                                                                                                                                                                                     job_skills                 job_location                                                                                                                job_link\n",
      "     senior sales manager  sales director tencent cloud                      Tencent                                                                                                                                                                                                                                                   key account sales customer relationship management sales forecasting sales planning pipeline management sales performance evaluation conflict resolution crossfunctional collaboration sales proposal development sales presentations sales meetings key account marketing new product knowledge market trends analysis communication presentation skills sales activity management business plan development sales goal setting bachelors degree english fluency mandarin fluency preferred  years of key account sales experience cdn knowledge preferred customer education k plan medical dental vision and life insurance paid vacation paid holidays floating holidays paid sick leave                Palo Alto, CA              https://www.linkedin.com/jobs/view/senior-sales-manager-sales-director-tencent-cloud-at-tencent-3659000901\n",
      "finish line macys store associate  flushing flushing ny               JD Finish Line                                                                                                                                                                                                                                                                                                                                                                                                                                                                                                                                                                                                                                                                                                                                                                                                                                                                                                                         sales customer service                 Flushing, MI https://www.linkedin.com/jobs/view/finish-line-macy-s-store-associate-flushing-flushing-ny-at-jd-finish-line-3023494382\n",
      "                           outside sales representative                          CEG consultative sales machine control systems site positioning systems paving control systems software solutions client relationship management needs assessment sales guidance solution recommendations sales negotiation industry trends monitoring competition analysis product development tracking networking strategic account planning sales pipeline management client record keeping client concern resolution upselling crossselling sales training process optimization sales performance reporting market adaptation bachelors degree discipline focus sales drive consultative selling techniques travel flexibility construction or surveying experience outside sales experience heavy equipment or rental chain experience equipment knowledge basic mechanics communication skills verbal communication written communication computer skills ms word ms excel powerpoint presentations management skills field personnel skills   Greater New Orleans Region                                       https://www.linkedin.com/jobs/view/outside-sales-representative-at-ceg-3802329943\n",
      "                                 regional sales manager          Makita U.S.A., Inc.                                                                                                                                                                                                                                                                                                                                                                                                                                                                        sales management businesstobusiness sales coaching and development team building strategic planning sales execution key account management enduser targeting sales training market research competition analysis product knowledge consulting expertise customer service communication skills problemsolving skills leadership skills project management time management travel microsoft office suite bachelors degree  years of experience  years of sales experience         Texas, United States                                https://www.linkedin.com/jobs/view/regional-sales-manager-at-makita-u-s-a-inc-3784016954\n",
      "                     telecaller  inside sales executive Jithvar Consultancy Services                                                                                                                                                                                                                                                                                                                                                                                                                                                                                                                   inside sales customer service communication persuasion negotiation sales team sales process sales manager telesales selling demonstration sales targets product demonstration sales pitches customer information sales activities customer complaints training sessions upselling crossselling collaboration sales reports telecaller ms office crm software high school diploma bachelors degree in business administration Lucknow, Victoria, Australia          https://au.linkedin.com/jobs/view/telecaller-inside-sales-executive-at-jithvar-consultancy-services-3800937354\n"
     ]
    }
   ],
   "source": [
    "import pandas as pd\n",
    "from sklearn.feature_extraction.text import TfidfVectorizer\n",
    "from sklearn.metrics.pairwise import cosine_similarity\n",
    "import scipy.sparse\n",
    "\n",
    "\n",
    "# Limit dataset size for testing (using top 1000 jobs to avoid memory overload)\n",
    "df_sample = merged_df.head(10000)  # Limit to top 1000 rows for testing\n",
    "\n",
    "# Preprocess job descriptions (job titles) for cosine similarity calculation\n",
    "job_description_tfidf = TfidfVectorizer(stop_words='english').fit_transform(df_sample['job_title'])\n",
    "\n",
    "# Convert to sparse format (to save memory)\n",
    "job_description_tfidf_sparse = scipy.sparse.csr_matrix(job_description_tfidf)\n",
    "\n",
    "# Calculate cosine similarity on sparse matrix\n",
    "job_description_similarity = cosine_similarity(job_description_tfidf_sparse, job_description_tfidf_sparse)\n",
    "\n",
    "# Function to recommend jobs based on user input (either job title or skills)\n",
    "def recommend_jobs_by_input(user_input, df, similarity_matrix, top_n=5):\n",
    "    # Check if the user input is a job title or skill(s)\n",
    "    if any(title.lower() in user_input.lower() for title in df['job_title']):\n",
    "        # Input is a job title, recommend based on job descriptions\n",
    "        job_index = df[df['job_title'].str.contains(user_input, case=False, na=False)].index[0]\n",
    "        similarity_scores = similarity_matrix[job_index]\n",
    "        similar_jobs = similarity_scores.argsort()[-top_n-1:-1][::-1]\n",
    "        return df.iloc[similar_jobs][['job_title', 'company', 'job_location', 'job_link']]\n",
    "    \n",
    "    else:\n",
    "        # Input is skills, recommend based on skills\n",
    "        skills_tfidf = TfidfVectorizer(stop_words='english').fit_transform(df['job_skills'])\n",
    "        skills_similarity = cosine_similarity(skills_tfidf, skills_tfidf)\n",
    "        \n",
    "        # Find the best match for skills\n",
    "        skills_similarity_scores = skills_similarity[0]\n",
    "        similar_jobs = skills_similarity_scores.argsort()[-top_n-1:-1][::-1]\n",
    "        return df.iloc[similar_jobs][['job_title', 'company','job_skills', 'job_location', 'job_link']]\n",
    "\n",
    "# Taking input from the user for job title or skills\n",
    "user_input = input(\"Enter a job title or skills to find relevant job links: \")\n",
    "\n",
    "# Get recommendations based on user input\n",
    "recommended_jobs = recommend_jobs_by_input(user_input, df_sample, job_description_similarity)\n",
    "\n",
    "# Display the recommended jobs\n",
    "print(\"\\nRecommended Jobs:\")\n",
    "print(recommended_jobs.to_string(index=False))  \n"
   ]
  },
  {
   "cell_type": "code",
   "execution_count": null,
   "metadata": {},
   "outputs": [],
   "source": []
  },
  {
   "cell_type": "code",
   "execution_count": null,
   "metadata": {},
   "outputs": [],
   "source": []
  }
 ],
 "metadata": {
  "kernelspec": {
   "display_name": "Python 3",
   "language": "python",
   "name": "python3"
  },
  "language_info": {
   "codemirror_mode": {
    "name": "ipython",
    "version": 3
   },
   "file_extension": ".py",
   "mimetype": "text/x-python",
   "name": "python",
   "nbconvert_exporter": "python",
   "pygments_lexer": "ipython3",
   "version": "3.12.0"
  }
 },
 "nbformat": 4,
 "nbformat_minor": 2
}
